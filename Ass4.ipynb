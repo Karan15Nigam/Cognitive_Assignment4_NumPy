{
 "cells": [
  {
   "cell_type": "markdown",
   "id": "84c3e4cd-8819-402a-8340-9e934841daf3",
   "metadata": {},
   "source": [
    "**Write a program to create a NumPy 1D-array with 5 elements and perform basic \n",
    "operations**\n"
   ]
  },
  {
   "cell_type": "code",
   "execution_count": 5,
   "id": "3e9287c3-3378-40fd-8bac-30d697b7ea50",
   "metadata": {},
   "outputs": [
    {
     "name": "stdout",
     "output_type": "stream",
     "text": [
      "[3 4 5 6 7]\n",
      "[ 3  6  9 12 15]\n",
      "[0.33333333 0.66666667 1.         1.33333333 1.66666667]\n"
     ]
    }
   ],
   "source": [
    "import numpy as np\n",
    "x=[1,2,3,4,5]\n",
    "arr=np.array(x)\n",
    "#1)-(a)\n",
    "arr_sum=arr+2\n",
    "print(arr_sum)\n",
    "#1)-(b)\n",
    "arr_multiply=arr*3\n",
    "print(arr_multiply)\n",
    "#1)-(c)\n",
    "arr_div=arr/3\n",
    "print(arr_div)"
   ]
  },
  {
   "cell_type": "markdown",
   "id": "d075d616-46cc-4cf5-b604-747eb5e316bf",
   "metadata": {},
   "source": [
    "*Questions on Basic NumPy Array*"
   ]
  },
  {
   "cell_type": "code",
   "execution_count": 7,
   "id": "285b7868-c3fb-4b89-8ddf-f4c8d67cff90",
   "metadata": {},
   "outputs": [
    {
     "name": "stdout",
     "output_type": "stream",
     "text": [
      "[5 4 6 3 2 1]\n"
     ]
    }
   ],
   "source": [
    "arr=np.array([1,2,3,6,4,5])\n",
    "#2)-(a)\n",
    "arr_rev=arr[::-1]\n",
    "print(arr_rev)\n",
    "#2)-(b):1\n",
    "x=np.array([1,2,3,4,5,1,2,1,1,1])\n",
    "x = np.array([1,2,3,4,5,1,2,1,1,1])\n",
    "most_frequent = np.bincount(x).argmax()\n",
    "indices = np.where(x == most_frequent)[0]\n",
    "print(most_frequent, indices)\n",
    "\n"
   ]
  },
  {
   "cell_type": "code",
   "execution_count": 8,
   "id": "1b6b58c4-8abf-45f6-af60-e0d957fb95ed",
   "metadata": {},
   "outputs": [
    {
     "name": "stdout",
     "output_type": "stream",
     "text": [
      "Element at (1st row, 2nd column): 20\n",
      "Element at (3rd row, 1st column): 70\n"
     ]
    }
   ],
   "source": [
    "#3)\n",
    "arr = np.array([[10, 20, 30], [40, 50, 60], [70, 80, 90]])\n",
    "# a) Accessing the element at the first row and second column\n",
    "element_1_2 = arr[0][1]\n",
    "print(\"Element at (1st row, 2nd column):\", element_1_2)\n",
    "# b) Accessing the element at the third row and first column\n",
    "element_3_1 = arr[2][0]\n",
    "print(\"Element at (3rd row, 1st column):\", element_3_1)\n"
   ]
  },
  {
   "cell_type": "code",
   "execution_count": 21,
   "id": "ce6aa7e4-cb80-413f-ae4a-076a0f0e1df3",
   "metadata": {},
   "outputs": [
    {
     "name": "stdout",
     "output_type": "stream",
     "text": [
      "[ 10.    13.75  17.5   21.25  25.    28.75  32.5   36.25  40.    43.75\n",
      "  47.5   51.25  55.    58.75  62.5   66.25  70.    73.75  77.5   81.25\n",
      "  85.    88.75  92.5   96.25 100.  ]\n",
      "\n",
      "Dimensions: (25,)\n",
      "\n",
      "Total elements: 25\n",
      "\n",
      "Data Type of each element: float64\n",
      "\n",
      "Total Number of bytes consumed: 200\n",
      "\n",
      "Transpose:\n",
      " [ 10.    13.75  17.5   21.25  25.    28.75  32.5   36.25  40.    43.75\n",
      "  47.5   51.25  55.    58.75  62.5   66.25  70.    73.75  77.5   81.25\n",
      "  85.    88.75  92.5   96.25 100.  ]\n",
      "Yes,we can do the Transpose of this array using T attribute\n"
     ]
    }
   ],
   "source": [
    "#4)\n",
    "Karan=np.linspace(10,100,25)\n",
    "print(Karan)\n",
    "print(\"\\nDimensions:\",Karan.shape)\n",
    "print(\"\\nTotal elements:\",Karan.size)\n",
    "print(\"\\nData Type of each element:\",Karan.dtype)\n",
    "print(\"\\nTotal Number of bytes consumed:\",Karan.itemsize*Karan.size)\n",
    "print(\"\\nTranspose:\\n\",Karan.reshape(25))\n",
    "Karan.T\n",
    "print(\"\\nYes,we can do the Transpose of this array using T attribute\")"
   ]
  },
  {
   "cell_type": "code",
   "execution_count": 31,
   "id": "071a569d-4b48-4aa7-b5f1-b8eae8f2def7",
   "metadata": {},
   "outputs": [
    {
     "name": "stdout",
     "output_type": "stream",
     "text": [
      "Mean: 43.333333333333336\n",
      "\n",
      "Median: 37.5\n",
      "\n",
      "Max: 90\n",
      "\n",
      "Min: 10\n",
      "\n",
      "Unique elements: [10 15 20 30 35 40 50 60 70 80 90]\n",
      "\n",
      " [[10 20 30]\n",
      " [40 50 60]\n",
      " [70 80 90]\n",
      " [15 20 35]]\n",
      "Resized array (2 rows*3 columns):\n",
      " [[10 20 30]\n",
      " [40 50 60]]\n"
     ]
    }
   ],
   "source": [
    "ucs420_Karan=np.array([[10,20,30,40],[50,60,70,80],[90,15,20,35]])\n",
    "print(\"Mean:\",np.mean(ucs420_Karan))\n",
    "print(\"\\nMedian:\",np.median(ucs420_Karan))\n",
    "print(\"\\nMax:\",np.max(ucs420_Karan))\n",
    "print(\"\\nMin:\",np.min(ucs420_Karan))\n",
    "print(\"\\nUnique elements:\",np.unique(ucs420_Karan))\n",
    "reshaped_ucs420_Karan=ucs420_Karan.reshape(4,3)\n",
    "print(\"\\n\",reshaped_ucs420_Karan)\n",
    "resized_ucs420_Karan = np.resize(ucs420_Karan, (2, 3))\n",
    "print(\"Resized array (2 rows*3 columns):\\n\",resized_ucs420_Karan)"
   ]
  },
  {
   "cell_type": "code",
   "execution_count": null,
   "id": "81fc0f9b-15ca-456f-a318-d26d54df33fc",
   "metadata": {},
   "outputs": [],
   "source": []
  }
 ],
 "metadata": {
  "kernelspec": {
   "display_name": "Python 3 (ipykernel)",
   "language": "python",
   "name": "python3"
  },
  "language_info": {
   "codemirror_mode": {
    "name": "ipython",
    "version": 3
   },
   "file_extension": ".py",
   "mimetype": "text/x-python",
   "name": "python",
   "nbconvert_exporter": "python",
   "pygments_lexer": "ipython3",
   "version": "3.13.1"
  }
 },
 "nbformat": 4,
 "nbformat_minor": 5
}
